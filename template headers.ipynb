{
 "cells": [
  {
   "cell_type": "markdown",
   "metadata": {},
   "source": [
    "## Title Example\n",
    "\n",
    "### Code:\n",
    "\n",
    "```markdown\n",
    "<a id='begin'></a>\n",
    "# <p style=\"background-color:#3c6e71; color:white font-family:newtimeroman; font-size:250%; text-align:center; border-radius: 15px 50px;\"> Title ✨</p>\n",
    "```\n",
    "\n",
    "### View:\n",
    "\n",
    "<a id='begin'></a>\n",
    "# <p style=\"background-color:#3c6e71; color:white; font-family:newtimeroman; font-size:250%; text-align:center; border-radius: 50px 50px;\"> Title ✨ </p>"
   ]
  },
  {
   "cell_type": "markdown",
   "metadata": {},
   "source": [
    "> Following the above example, you can customize all parameters to adapt to your needs.\n",
    "\n",
    "## Custom title example \n",
    "\n",
    "### Code:\n",
    "\n",
    "```markdown\n",
    "<a id='begin'></a>\n",
    "# <p style=\"background-color:green; color:red; font-size:250%; text-align:Center; border-radius: 10px 100px;\"> 🎄 Title 🎅 </p>\n",
    "```\n",
    "### View\n",
    "\n",
    "<a id='begin'></a>\n",
    "# <p style=\"background-color:green; color:red; font-size:250%; text-align:Center; border-radius: 10px 100px;\"> 🎄 Title 🎅 </p>\n",
    "\n",
    "> Ok, looks weird, but it's possible.\n",
    "You only need a basic understanding of HTML and CSS to change this."
   ]
  },
  {
   "cell_type": "markdown",
   "metadata": {},
   "source": [
    "\n",
    "## Table of contents\n",
    "\n",
    "### Code: \n",
    "\n",
    "```markdown\n",
    "## <p style=\"background-color:#3c6e71; color:white; font-family:newtimeroman; font-size:120%; text-align:center; border-radius: 15px 50px;\">Table of Content</p>\n",
    "\n",
    "* [Motivation](#motivation)\n",
    "* [Turn on the laptop](#Laptop)\n",
    "* [1. Step 1](#1)\n",
    "* [2. Step 2](#2)\n",
    "* [3. Step 3](#3)\n",
    "* [End? 🤨](#4)\n",
    "```\n",
    "\n",
    "### View :\n",
    "\n",
    "## <p style=\"background-color:#3c6e71; color:white; font-family:newtimeroman; font-size:120%; text-align:center; border-radius: 15px 50px;\">Table of Content</p>\n",
    "\n",
    "* [Motivation](#motivation)\n",
    "* [Turn on the laptop](#Laptop)\n",
    "* [1. Step 1](#1)\n",
    "* [2. Step 2](#2)\n",
    "* [3. Step 3](#3)\n",
    "* [End? 🤨](#4)\n",
    "\n"
   ]
  },
  {
   "cell_type": "markdown",
   "metadata": {},
   "source": [
    "## Motivation\n",
    "this is linked to Table of Content\n",
    "\n",
    "### Code:\n",
    "```markdown\n",
    "<a id='motivation'></a>\n",
    "# <p style=\"background-color:#3c6e71; color:white; font-family:newtimeroman; font-size:150%; text-align:center; border-radius: 15px 50px;\">Motivation</p>\n",
    "```\n",
    "\n",
    "### View:\n",
    "<a id='motivation'></a>\n",
    "# <p style=\"background-color:#3c6e71; color:white; font-family:newtimeroman; font-size:150%; text-align:center; border-radius: 15px 50px;\">Motivation</p>\n"
   ]
  }
 ],
 "metadata": {
  "language_info": {
   "name": "python"
  },
  "orig_nbformat": 4
 },
 "nbformat": 4,
 "nbformat_minor": 2
}
