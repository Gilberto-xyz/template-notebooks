{
 "cells": [
  {
   "cell_type": "markdown",
   "metadata": {},
   "source": [
    "# Structured example\n",
    "\n",
    "## Title\n",
    "\n",
    "### Code:\n",
    "\n",
    "```markdown\n",
    "<a id='begin'></a>\n",
    "# <p style=\"background-color:#3c6e71; color:white font-family:newtimeroman; font-size:250%; text-align:center; border-radius: 15px 50px;\"> Title ✨</p>\n",
    "```\n",
    "\n",
    "### View:\n",
    "\n",
    "<a id='begin'></a>\n",
    "# <p style=\"background-color:#3c6e71; color:white; font-family:newtimeroman; font-size:250%; text-align:center; border-radius: 50px 50px;\"> Title ✨ </p>"
   ]
  },
  {
   "cell_type": "markdown",
   "metadata": {},
   "source": [
    "\n",
    "## Table of contents\n",
    "\n",
    "### Code: \n",
    "\n",
    "```markdown\n",
    "## <p style=\"background-color:#3c6e71; color:white; font-family:newtimeroman; font-size:120%; text-align:center; border-radius: 15px 50px;\">Table of Content</p>\n",
    "\n",
    "* [Motivation](#motivation)\n",
    "* [Turn on the laptop](#Laptop)\n",
    "* [1. Step 1](#1)\n",
    "* [2. Step 2](#2)\n",
    "* [3. Step 3](#3)\n",
    "* [End? 🤨](#4)\n",
    "```\n",
    "\n",
    "### View :\n",
    "\n",
    "## <p style=\"background-color:#3c6e71; color:white; font-family:newtimeroman; font-size:120%; text-align:center; border-radius: 15px 50px;\">Table of Content</p>\n",
    "\n",
    "* [Motivation](#motivation)\n",
    "* [Turn on the laptop](#Laptop)\n",
    "* [1. Step 1](#1)\n",
    "* [2. Step 2](#2)\n",
    "* [3. Step 3](#3)\n",
    "* [End? 🤨](#4)\n",
    "\n"
   ]
  },
  {
   "cell_type": "markdown",
   "metadata": {},
   "source": [
    "## Motivation\n",
    "this is linked to Table of Content\n",
    "\n",
    "### Code:\n",
    "```markdown\n",
    "<a id='motivation'></a>\n",
    "# <p style=\"background-color:#3c6e71; color:white; font-family:newtimeroman; font-size:150%; text-align:center; border-radius: 15px 50px;\">Motivation</p>\n",
    "```\n",
    "\n",
    "### View:\n",
    "<a id='motivation'></a>\n",
    "# <p style=\"background-color:#3c6e71; color:white; font-family:newtimeroman; font-size:150%; text-align:center; border-radius: 15px 50px;\">Motivation</p>\n"
   ]
  },
  {
   "cell_type": "markdown",
   "metadata": {},
   "source": [
    "## Turnon the laptop\n",
    "\n",
    "### Code:\n",
    "```markdown\n",
    "<a id='Laptop'></a>\n",
    "# <p style=\"background-color:#3c6e71; color:white; font-family:newtimeroman; font-size:150%; text-align:center; border-radius: 15px 50px;\">Turn on the laptop</p>\n",
    "```\n",
    "\n",
    "### View:\n",
    "<a id='motivation'></a>\n",
    "# <p style=\"background-color:#3c6e71; color:white; font-family:newtimeroman; font-size:150%; text-align:center; border-radius: 15px 50px;\">Turn on the laptop</p>"
   ]
  },
  {
   "cell_type": "markdown",
   "metadata": {},
   "source": [
    "## Step 1\n",
    "\n",
    "### Code:\n",
    "```markdown\n",
    "# <p style=\"background-color:#3c6e71; color:white; font-family:newtimeroman; font-size:150%; text-align:center; border-radius: 15px 50px;\">1. Step 1</p>\n",
    "```\n",
    "\n",
    "### View:\n",
    "# <p style=\"background-color:#3c6e71; color:white; font-family:newtimeroman; font-size:150%; text-align:center; border-radius: 15px 50px;\">1. Step 1</p>"
   ]
  },
  {
   "cell_type": "markdown",
   "metadata": {},
   "source": [
    "## ETC..\n",
    "\n",
    "### Code:\n",
    "```markdown\n",
    "# <p style=\"background-color:#3c6e71; color:white; font-family:newtimeroman; font-size:150%; text-align:center; border-radius: 15px 50px;\">etc</p>\n",
    "```\n",
    "\n",
    "### View:\n",
    "# <p style=\"background-color:#3c6e71; color:white; font-family:newtimeroman; font-size:150%; text-align:center; border-radius: 15px 50px;\">etc</p>"
   ]
  },
  {
   "cell_type": "markdown",
   "metadata": {},
   "source": [
    "# Custom\n",
    "\n",
    "> Following the above example, you can customize all parameters to adapt to your needs.\n",
    "\n",
    "## Title - Merry Christmas \n",
    "\n",
    "### Code:\n",
    "\n",
    "```markdown\n",
    "<a id='begin'></a>\n",
    "# <p style=\"background-color:green; color:red; font-size:250%; text-align:Center; border-radius: 10px 100px;\"> 🎄 Title 🎅 </p>\n",
    "```\n",
    "### View\n",
    "\n",
    "<a id='begin'></a>\n",
    "# <p style=\"background-color:green; color:red; font-size:250%; text-align:Center; border-radius: 10px 100px;\"> 🎄 Title 🎅 </p>\n",
    "\n",
    "> Ok, looks weird, but it's possible.\n",
    "You only need a basic understanding of HTML and CSS to change this."
   ]
  },
  {
   "cell_type": "markdown",
   "metadata": {},
   "source": [
    "For more information about gradients and other effects, check out the [CSS Gradients and Effects](https://www.w3schools.com/css/css3_gradients.asp) page.\n",
    "\n",
    "## Title - Cool\n",
    "\n",
    "### Code:\n",
    "\n",
    "```markdown\n",
    "# <p style=\"background: linear-gradient(#9b5de5, #1dd3b0); color:white; font-size:250%; text-align:Center; border-radius: 20px 20px;\"> 😎 Title </p>\n",
    "```\n",
    "### View\n",
    "\n",
    "# <p style=\"background: linear-gradient(#9b5de5, #1dd3b0); color:white; font-size:250%; text-align:Center; border-radius: 20px 20px;\"> 😎 Title </p>\n"
   ]
  },
  {
   "cell_type": "markdown",
   "metadata": {},
   "source": [
    "## Title - Summer ->\n",
    "\n",
    "### Code:\n",
    "\n",
    "```markdown\n",
    "# <p style=\"background: linear-gradient(to right,#ffbe0b, #fb5607); color:white; font-size:250%; text-align:Center; border-radius: 20px 20px;\"> 🥵 Title </p>\n",
    "```\n",
    "### View\n",
    "\n",
    "# <p style=\"background: linear-gradient(to right,#ffbe0b, #fb5607); color:white; font-size:250%; text-align:Center; border-radius: 20px 20px;\"> 🥵 Title </p>\n"
   ]
  },
  {
   "cell_type": "markdown",
   "metadata": {},
   "source": [
    "## Title - Photo \n",
    "\n",
    "### Code:\n",
    "\n",
    "```markdown\n",
    "# <p style=\"background: linear-gradient(to right, rgba(255,255,255,0), rgba(255,255,255,1)), url(https://images-prod.healthline.com/hlcmsresource/images/AN_images/lemons-1296x728-feature.jpg); color:black; font-size:250%; text-align:Center; border-radius: 20px 20px;\"> Title 📷 </p>\n",
    "```\n",
    "### View\n",
    "\n",
    "# <p style=\"background: linear-gradient(to right, rgba(255,255,255,0), rgba(255,255,255,1)), url(https://images-prod.healthline.com/hlcmsresource/images/AN_images/lemons-1296x728-feature.jpg); color:black; font-size:250%; text-align:Center; border-radius: 20px 20px;\"> Title 📷 </p>\n"
   ]
  },
  {
   "cell_type": "markdown",
   "metadata": {},
   "source": [
    "## Title - Palette\n",
    "\n",
    "### Code:\n",
    "\n",
    "```markdown\n",
    "# <p style=\"background: linear-gradient(to right,#ef476f,#ffd166, #06d6a0); color:white; font-size:250%; text-align:Center; border-radius: 20px 20px;\">  Title 🥥 </p>\n",
    "```\n",
    "### View\n",
    "\n",
    "# <p style=\"background: linear-gradient(to right,#ef476f,#ffd166, #06d6a0); color:white; font-size:250%; text-align:Center; border-radius: 20px 20px;\">  Title 🥥 </p>\n"
   ]
  }
 ],
 "metadata": {
  "language_info": {
   "name": "python"
  },
  "orig_nbformat": 4
 },
 "nbformat": 4,
 "nbformat_minor": 2
}
